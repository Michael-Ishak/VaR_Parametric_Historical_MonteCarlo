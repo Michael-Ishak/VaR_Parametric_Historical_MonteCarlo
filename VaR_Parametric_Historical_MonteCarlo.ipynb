{
 "cells": [
  {
   "cell_type": "code",
   "execution_count": 93,
   "metadata": {},
   "outputs": [],
   "source": [
    "import numpy as np\n",
    "import matplotlib.pyplot as plt\n",
    "import datetime as dt\n",
    "import pandas as pd\n",
    "import yfinance as yf\n",
    "from scipy.stats import norm\n",
    "from tabulate import tabulate"
   ]
  },
  {
   "cell_type": "markdown",
   "metadata": {},
   "source": [
    "# Timeframe"
   ]
  },
  {
   "cell_type": "code",
   "execution_count": 94,
   "metadata": {},
   "outputs": [],
   "source": [
    "years = 15\n",
    "\n",
    "end_date = dt.datetime.now()\n",
    "start_date = end_date - dt.timedelta(days=365 * years)"
   ]
  },
  {
   "cell_type": "markdown",
   "metadata": {},
   "source": [
    "# Securities to put into portfolio"
   ]
  },
  {
   "cell_type": "code",
   "execution_count": 95,
   "metadata": {},
   "outputs": [],
   "source": [
    "tickers = [\n",
    "    \"UNG\",\n",
    "    \"GLD\",\n",
    "    \"UCO\",\n",
    "    \"BNO\",\n",
    "    \"COCO.L\",\n",
    "]  # Natural Gas, Gold, Crude Oil, Brent Crude, Cocoa Beans ETFs"
   ]
  },
  {
   "cell_type": "code",
   "execution_count": 96,
   "metadata": {},
   "outputs": [
    {
     "name": "stdout",
     "output_type": "stream",
     "text": [
      "[*********************100%%**********************]  1 of 1 completed\n",
      "[*********************100%%**********************]  1 of 1 completed\n",
      "[*********************100%%**********************]  1 of 1 completed\n",
      "[*********************100%%**********************]  1 of 1 completed\n",
      "[*********************100%%**********************]  1 of 1 completed\n",
      "                   UNG         GLD          UCO        BNO  COCO.L\n",
      "Date                                                              \n",
      "2009-01-22  616.000000   84.580002  2770.000000        NaN     NaN\n",
      "2009-01-23  591.679993   88.529999  3182.500000        NaN     NaN\n",
      "2009-01-26  589.119995   88.949997  3150.000000        NaN     NaN\n",
      "2009-01-27  587.200012   88.379997  2650.000000        NaN     NaN\n",
      "2009-01-28  588.479980   87.419998  2675.000000        NaN     NaN\n",
      "...                ...         ...          ...        ...     ...\n",
      "2024-01-11    6.290000  187.869995    26.540001  27.700001  4.2110\n",
      "2024-01-12    6.820000  189.710007    26.879999  27.900000  4.2820\n",
      "2024-01-16    5.780000  187.910004    26.200001  27.700001  4.3435\n",
      "2024-01-17    5.820000  185.839996    26.559999  27.799999  4.3665\n",
      "2024-01-18    5.560000  187.369995    27.180000  28.129999  4.4030\n",
      "\n",
      "[3773 rows x 5 columns]\n"
     ]
    }
   ],
   "source": [
    "adj_closed_df = pd.DataFrame()\n",
    "\n",
    "for i in tickers:\n",
    "    adj_closed_df[i] = yf.download(i, start=start_date, end=end_date)[\"Adj Close\"]\n",
    "\n",
    "print(adj_closed_df)"
   ]
  },
  {
   "cell_type": "markdown",
   "metadata": {},
   "source": [
    "# Calculate log returns and remove NaNs"
   ]
  },
  {
   "cell_type": "code",
   "execution_count": 97,
   "metadata": {},
   "outputs": [
    {
     "data": {
      "text/html": [
       "<div>\n",
       "<style scoped>\n",
       "    .dataframe tbody tr th:only-of-type {\n",
       "        vertical-align: middle;\n",
       "    }\n",
       "\n",
       "    .dataframe tbody tr th {\n",
       "        vertical-align: top;\n",
       "    }\n",
       "\n",
       "    .dataframe thead th {\n",
       "        text-align: right;\n",
       "    }\n",
       "</style>\n",
       "<table border=\"1\" class=\"dataframe\">\n",
       "  <thead>\n",
       "    <tr style=\"text-align: right;\">\n",
       "      <th></th>\n",
       "      <th>UNG</th>\n",
       "      <th>GLD</th>\n",
       "      <th>UCO</th>\n",
       "      <th>BNO</th>\n",
       "      <th>COCO.L</th>\n",
       "    </tr>\n",
       "    <tr>\n",
       "      <th>Date</th>\n",
       "      <th></th>\n",
       "      <th></th>\n",
       "      <th></th>\n",
       "      <th></th>\n",
       "      <th></th>\n",
       "    </tr>\n",
       "  </thead>\n",
       "  <tbody>\n",
       "    <tr>\n",
       "      <th>2010-06-03</th>\n",
       "      <td>0.059143</td>\n",
       "      <td>-0.015311</td>\n",
       "      <td>0.023603</td>\n",
       "      <td>0.009335</td>\n",
       "      <td>0.004963</td>\n",
       "    </tr>\n",
       "    <tr>\n",
       "      <th>2010-06-04</th>\n",
       "      <td>0.021001</td>\n",
       "      <td>0.010373</td>\n",
       "      <td>-0.092373</td>\n",
       "      <td>-0.044733</td>\n",
       "      <td>-0.027605</td>\n",
       "    </tr>\n",
       "    <tr>\n",
       "      <th>2010-06-07</th>\n",
       "      <td>0.026539</td>\n",
       "      <td>0.019113</td>\n",
       "      <td>-0.006696</td>\n",
       "      <td>0.003839</td>\n",
       "      <td>-0.010230</td>\n",
       "    </tr>\n",
       "    <tr>\n",
       "      <th>2010-06-08</th>\n",
       "      <td>-0.026539</td>\n",
       "      <td>-0.004041</td>\n",
       "      <td>0.031959</td>\n",
       "      <td>-0.004244</td>\n",
       "      <td>0.007682</td>\n",
       "    </tr>\n",
       "    <tr>\n",
       "      <th>2010-06-09</th>\n",
       "      <td>-0.024754</td>\n",
       "      <td>-0.003643</td>\n",
       "      <td>0.045583</td>\n",
       "      <td>0.025591</td>\n",
       "      <td>0.007624</td>\n",
       "    </tr>\n",
       "    <tr>\n",
       "      <th>...</th>\n",
       "      <td>...</td>\n",
       "      <td>...</td>\n",
       "      <td>...</td>\n",
       "      <td>...</td>\n",
       "      <td>...</td>\n",
       "    </tr>\n",
       "    <tr>\n",
       "      <th>2024-01-11</th>\n",
       "      <td>0.022509</td>\n",
       "      <td>0.001971</td>\n",
       "      <td>0.029054</td>\n",
       "      <td>0.014546</td>\n",
       "      <td>0.016884</td>\n",
       "    </tr>\n",
       "    <tr>\n",
       "      <th>2024-01-12</th>\n",
       "      <td>0.080898</td>\n",
       "      <td>0.009746</td>\n",
       "      <td>0.012729</td>\n",
       "      <td>0.007194</td>\n",
       "      <td>0.016720</td>\n",
       "    </tr>\n",
       "    <tr>\n",
       "      <th>2024-01-16</th>\n",
       "      <td>-0.165456</td>\n",
       "      <td>-0.009533</td>\n",
       "      <td>-0.025623</td>\n",
       "      <td>-0.007194</td>\n",
       "      <td>0.014260</td>\n",
       "    </tr>\n",
       "    <tr>\n",
       "      <th>2024-01-17</th>\n",
       "      <td>0.006897</td>\n",
       "      <td>-0.011077</td>\n",
       "      <td>0.013647</td>\n",
       "      <td>0.003604</td>\n",
       "      <td>0.005281</td>\n",
       "    </tr>\n",
       "    <tr>\n",
       "      <th>2024-01-18</th>\n",
       "      <td>-0.045702</td>\n",
       "      <td>0.008199</td>\n",
       "      <td>0.023075</td>\n",
       "      <td>0.011801</td>\n",
       "      <td>0.008324</td>\n",
       "    </tr>\n",
       "  </tbody>\n",
       "</table>\n",
       "<p>3306 rows × 5 columns</p>\n",
       "</div>"
      ],
      "text/plain": [
       "                 UNG       GLD       UCO       BNO    COCO.L\n",
       "Date                                                        \n",
       "2010-06-03  0.059143 -0.015311  0.023603  0.009335  0.004963\n",
       "2010-06-04  0.021001  0.010373 -0.092373 -0.044733 -0.027605\n",
       "2010-06-07  0.026539  0.019113 -0.006696  0.003839 -0.010230\n",
       "2010-06-08 -0.026539 -0.004041  0.031959 -0.004244  0.007682\n",
       "2010-06-09 -0.024754 -0.003643  0.045583  0.025591  0.007624\n",
       "...              ...       ...       ...       ...       ...\n",
       "2024-01-11  0.022509  0.001971  0.029054  0.014546  0.016884\n",
       "2024-01-12  0.080898  0.009746  0.012729  0.007194  0.016720\n",
       "2024-01-16 -0.165456 -0.009533 -0.025623 -0.007194  0.014260\n",
       "2024-01-17  0.006897 -0.011077  0.013647  0.003604  0.005281\n",
       "2024-01-18 -0.045702  0.008199  0.023075  0.011801  0.008324\n",
       "\n",
       "[3306 rows x 5 columns]"
      ]
     },
     "execution_count": 97,
     "metadata": {},
     "output_type": "execute_result"
    }
   ],
   "source": [
    "log_returns = np.log(adj_closed_df / adj_closed_df.shift(1))\n",
    "log_returns = log_returns.dropna()\n",
    "log_returns"
   ]
  },
  {
   "cell_type": "markdown",
   "metadata": {},
   "source": [
    "# Create Equally Weighted Portfolio and finding Historical Portfolio Returns"
   ]
  },
  {
   "cell_type": "code",
   "execution_count": 98,
   "metadata": {},
   "outputs": [
    {
     "data": {
      "text/plain": [
       "array([0.2, 0.2, 0.2, 0.2, 0.2])"
      ]
     },
     "execution_count": 98,
     "metadata": {},
     "output_type": "execute_result"
    }
   ],
   "source": [
    "portfolio_value = 1000000  # 1 million USD\n",
    "weighting = np.array([1 / len(tickers)] * len(tickers))\n",
    "weighting"
   ]
  },
  {
   "cell_type": "code",
   "execution_count": 99,
   "metadata": {},
   "outputs": [
    {
     "data": {
      "text/plain": [
       "Date\n",
       "2010-06-03    0.016347\n",
       "2010-06-04   -0.026667\n",
       "2010-06-07    0.006513\n",
       "2010-06-08    0.000963\n",
       "2010-06-09    0.010080\n",
       "                ...   \n",
       "2024-01-11    0.016993\n",
       "2024-01-12    0.025458\n",
       "2024-01-16   -0.038709\n",
       "2024-01-17    0.003670\n",
       "2024-01-18    0.001139\n",
       "Length: 3306, dtype: float64"
      ]
     },
     "execution_count": 99,
     "metadata": {},
     "output_type": "execute_result"
    }
   ],
   "source": [
    "historical_returns = (log_returns * weighting).sum(axis=1)\n",
    "historical_returns"
   ]
  },
  {
   "cell_type": "code",
   "execution_count": 100,
   "metadata": {},
   "outputs": [],
   "source": [
    "# Find X-day historical returns\n",
    "\n",
    "days = 5\n",
    "\n",
    "historical_returns_x_days = historical_returns.rolling(window=days).sum()"
   ]
  },
  {
   "cell_type": "markdown",
   "metadata": {},
   "source": [
    "# Create covariance matrix"
   ]
  },
  {
   "cell_type": "code",
   "execution_count": 101,
   "metadata": {},
   "outputs": [],
   "source": [
    "covariance = log_returns.cov() * 252  # stock market open for 252 days of the year"
   ]
  },
  {
   "cell_type": "markdown",
   "metadata": {},
   "source": [
    "# Calculate portfolio standard deviation"
   ]
  },
  {
   "cell_type": "code",
   "execution_count": 102,
   "metadata": {},
   "outputs": [],
   "source": [
    "portfolio_std_dev = np.sqrt(weighting.T @ covariance @ weighting)"
   ]
  },
  {
   "cell_type": "markdown",
   "metadata": {},
   "source": [
    "# Calculating VaR at different confidence levels and seeing the effect on VaR"
   ]
  },
  {
   "cell_type": "code",
   "execution_count": 103,
   "metadata": {},
   "outputs": [],
   "source": [
    "from scipy.stats import norm\n",
    "\n",
    "confidence_levels = [0.90, 0.95, 0.99]\n",
    "\n",
    "VaRs = []\n",
    "for cl in confidence_levels:\n",
    "    VaR = portfolio_value * (\n",
    "        norm.ppf(1 - cl) * portfolio_std_dev * np.sqrt(days / 252)\n",
    "        - historical_returns.mean() * days\n",
    "    )\n",
    "    VaRs.append(VaR)"
   ]
  },
  {
   "cell_type": "code",
   "execution_count": 104,
   "metadata": {},
   "outputs": [
    {
     "name": "stdout",
     "output_type": "stream",
     "text": [
      "Confidence Level     Value at Risk       \n",
      "----------------------------------------\n",
      "    90%:          $-44,870.17\n",
      "    95%:          $-58,248.75\n",
      "    99%:          $-83,344.73\n"
     ]
    }
   ],
   "source": [
    "print(f'{\"Confidence Level\":<20} {\"Value at Risk\":<20}')\n",
    "print(\"-\" * 40)\n",
    "\n",
    "for cl, VaR in zip(confidence_levels, VaRs):\n",
    "    print(f'{cl * 100:>6.0f}%: {\"\":<8} ${VaR:>10,.2f}')"
   ]
  },
  {
   "cell_type": "markdown",
   "metadata": {},
   "source": [
    "# Plotting"
   ]
  },
  {
   "cell_type": "code",
   "execution_count": 105,
   "metadata": {},
   "outputs": [
    {
     "data": {
      "image/png": "[encoded data removed]",
      "text/plain": [
       "<Figure size 640x480 with 1 Axes>"
      ]
     },
     "metadata": {},
     "output_type": "display_data"
    }
   ],
   "source": [
    "historical_x_day = historical_returns_x_days * portfolio_value\n",
    "\n",
    "plt.hist(\n",
    "    historical_x_day, bins=200, density=True, alpha=0.5, label=f\"{days}-Daily Returns\"\n",
    ")\n",
    "\n",
    "for j, VaR in zip(confidence_levels, VaRs):\n",
    "    plt.axvline(\n",
    "        x=-VaR, linestyle=\"--\", color=\"r\", label=\"VaR at {}% CL\".format(int(j * 100))\n",
    "    )\n",
    "\n",
    "plt.xlabel(f\"{days}-Day Portfolio Return ($)\")\n",
    "plt.ylabel(\"Freq\")\n",
    "plt.title(\n",
    "    f\"Distribution of Portfolio {days}-Daily Returns and Parametric VaR Estimates\"\n",
    ")\n",
    "plt.legend()\n",
    "plt.show()"
   ]
  }
 ],
 "metadata": {
  "kernelspec": {
   "display_name": "Python 3",
   "language": "python",
   "name": "python3"
  },
  "language_info": {
   "codemirror_mode": {
    "name": "ipython",
    "version": 3
   },
   "file_extension": ".py",
   "mimetype": "text/x-python",
   "name": "python",
   "nbconvert_exporter": "python",
   "pygments_lexer": "ipython3",
   "version": "3.12.0"
  }
 },
 "nbformat": 4,
 "nbformat_minor": 2
}
