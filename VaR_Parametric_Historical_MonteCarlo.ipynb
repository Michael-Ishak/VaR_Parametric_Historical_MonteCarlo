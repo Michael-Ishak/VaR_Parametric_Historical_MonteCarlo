{
 "cells": [
  {
   "cell_type": "code",
   "execution_count": 242,
   "metadata": {},
   "outputs": [],
   "source": [
    "import numpy as np\n",
    "import matplotlib.pyplot as plt\n",
    "import datetime as dt\n",
    "import pandas as pd\n",
    "import yfinance as yf\n",
    "from scipy.stats import norm\n",
    "from tabulate import tabulate"
   ]
  },
  {
   "cell_type": "markdown",
   "metadata": {},
   "source": [
    "### Timeframe"
   ]
  },
  {
   "cell_type": "code",
   "execution_count": 243,
   "metadata": {},
   "outputs": [],
   "source": [
    "years = 15\n",
    "\n",
    "end_date = dt.datetime.now()\n",
    "start_date = end_date - dt.timedelta(days=365 * years)"
   ]
  },
  {
   "cell_type": "markdown",
   "metadata": {},
   "source": [
    "### Securities to put into portfolio"
   ]
  },
  {
   "cell_type": "code",
   "execution_count": 244,
   "metadata": {},
   "outputs": [],
   "source": [
    "tickers = [\n",
    "    \"UNG\",\n",
    "    \"GLD\",\n",
    "    \"UCO\",\n",
    "    \"BNO\",\n",
    "    \"COCO.L\",\n",
    "]  # Natural Gas, Gold, Crude Oil, Brent Crude, Cocoa Beans ETFs"
   ]
  },
  {
   "cell_type": "code",
   "execution_count": 245,
   "metadata": {},
   "outputs": [
    {
     "name": "stdout",
     "output_type": "stream",
     "text": [
      "[*********************100%%**********************]  1 of 1 completed\n",
      "[*********************100%%**********************]  1 of 1 completed\n",
      "[*********************100%%**********************]  1 of 1 completed\n",
      "[*********************100%%**********************]  1 of 1 completed\n",
      "[*********************100%%**********************]  1 of 1 completed\n",
      "                   UNG         GLD          UCO        BNO  COCO.L\n",
      "Date                                                              \n",
      "2009-01-22  616.000000   84.580002  2770.000000        NaN     NaN\n",
      "2009-01-23  591.679993   88.529999  3182.500000        NaN     NaN\n",
      "2009-01-26  589.119995   88.949997  3150.000000        NaN     NaN\n",
      "2009-01-27  587.200012   88.379997  2650.000000        NaN     NaN\n",
      "2009-01-28  588.479980   87.419998  2675.000000        NaN     NaN\n",
      "...                ...         ...          ...        ...     ...\n",
      "2024-01-12    6.820000  189.710007    26.879999  27.900000  4.2820\n",
      "2024-01-16    5.780000  187.910004    26.200001  27.700001  4.3435\n",
      "2024-01-17    5.820000  185.839996    26.559999  27.799999  4.3665\n",
      "2024-01-18    5.560000  187.369995    27.180000  28.129999  4.4030\n",
      "2024-01-19    5.305000  187.570007    27.340000  28.290001  4.5330\n",
      "\n",
      "[3774 rows x 5 columns]\n"
     ]
    }
   ],
   "source": [
    "adj_closed_df = pd.DataFrame()\n",
    "\n",
    "for i in tickers:\n",
    "    adj_closed_df[i] = yf.download(i, start=start_date, end=end_date)[\"Adj Close\"]\n",
    "\n",
    "print(adj_closed_df)"
   ]
  },
  {
   "cell_type": "markdown",
   "metadata": {},
   "source": [
    "### Calculate log returns and remove NaNs"
   ]
  },
  {
   "cell_type": "code",
   "execution_count": 246,
   "metadata": {},
   "outputs": [
    {
     "data": {
      "text/html": [
       "<div>\n",
       "<style scoped>\n",
       "    .dataframe tbody tr th:only-of-type {\n",
       "        vertical-align: middle;\n",
       "    }\n",
       "\n",
       "    .dataframe tbody tr th {\n",
       "        vertical-align: top;\n",
       "    }\n",
       "\n",
       "    .dataframe thead th {\n",
       "        text-align: right;\n",
       "    }\n",
       "</style>\n",
       "<table border=\"1\" class=\"dataframe\">\n",
       "  <thead>\n",
       "    <tr style=\"text-align: right;\">\n",
       "      <th></th>\n",
       "      <th>UNG</th>\n",
       "      <th>GLD</th>\n",
       "      <th>UCO</th>\n",
       "      <th>BNO</th>\n",
       "      <th>COCO.L</th>\n",
       "    </tr>\n",
       "    <tr>\n",
       "      <th>Date</th>\n",
       "      <th></th>\n",
       "      <th></th>\n",
       "      <th></th>\n",
       "      <th></th>\n",
       "      <th></th>\n",
       "    </tr>\n",
       "  </thead>\n",
       "  <tbody>\n",
       "    <tr>\n",
       "      <th>2010-06-03</th>\n",
       "      <td>0.059143</td>\n",
       "      <td>-0.015311</td>\n",
       "      <td>0.023603</td>\n",
       "      <td>0.009335</td>\n",
       "      <td>0.004963</td>\n",
       "    </tr>\n",
       "    <tr>\n",
       "      <th>2010-06-04</th>\n",
       "      <td>0.021001</td>\n",
       "      <td>0.010373</td>\n",
       "      <td>-0.092373</td>\n",
       "      <td>-0.044733</td>\n",
       "      <td>-0.027605</td>\n",
       "    </tr>\n",
       "    <tr>\n",
       "      <th>2010-06-07</th>\n",
       "      <td>0.026539</td>\n",
       "      <td>0.019113</td>\n",
       "      <td>-0.006696</td>\n",
       "      <td>0.003839</td>\n",
       "      <td>-0.010230</td>\n",
       "    </tr>\n",
       "    <tr>\n",
       "      <th>2010-06-08</th>\n",
       "      <td>-0.026539</td>\n",
       "      <td>-0.004041</td>\n",
       "      <td>0.031959</td>\n",
       "      <td>-0.004244</td>\n",
       "      <td>0.007682</td>\n",
       "    </tr>\n",
       "    <tr>\n",
       "      <th>2010-06-09</th>\n",
       "      <td>-0.024754</td>\n",
       "      <td>-0.003643</td>\n",
       "      <td>0.045583</td>\n",
       "      <td>0.025591</td>\n",
       "      <td>0.007624</td>\n",
       "    </tr>\n",
       "    <tr>\n",
       "      <th>...</th>\n",
       "      <td>...</td>\n",
       "      <td>...</td>\n",
       "      <td>...</td>\n",
       "      <td>...</td>\n",
       "      <td>...</td>\n",
       "    </tr>\n",
       "    <tr>\n",
       "      <th>2024-01-12</th>\n",
       "      <td>0.080898</td>\n",
       "      <td>0.009746</td>\n",
       "      <td>0.012729</td>\n",
       "      <td>0.007194</td>\n",
       "      <td>0.016720</td>\n",
       "    </tr>\n",
       "    <tr>\n",
       "      <th>2024-01-16</th>\n",
       "      <td>-0.165456</td>\n",
       "      <td>-0.009533</td>\n",
       "      <td>-0.025623</td>\n",
       "      <td>-0.007194</td>\n",
       "      <td>0.014260</td>\n",
       "    </tr>\n",
       "    <tr>\n",
       "      <th>2024-01-17</th>\n",
       "      <td>0.006897</td>\n",
       "      <td>-0.011077</td>\n",
       "      <td>0.013647</td>\n",
       "      <td>0.003604</td>\n",
       "      <td>0.005281</td>\n",
       "    </tr>\n",
       "    <tr>\n",
       "      <th>2024-01-18</th>\n",
       "      <td>-0.045702</td>\n",
       "      <td>0.008199</td>\n",
       "      <td>0.023075</td>\n",
       "      <td>0.011801</td>\n",
       "      <td>0.008324</td>\n",
       "    </tr>\n",
       "    <tr>\n",
       "      <th>2024-01-19</th>\n",
       "      <td>-0.046948</td>\n",
       "      <td>0.001067</td>\n",
       "      <td>0.005869</td>\n",
       "      <td>0.005672</td>\n",
       "      <td>0.029098</td>\n",
       "    </tr>\n",
       "  </tbody>\n",
       "</table>\n",
       "<p>3307 rows × 5 columns</p>\n",
       "</div>"
      ],
      "text/plain": [
       "                 UNG       GLD       UCO       BNO    COCO.L\n",
       "Date                                                        \n",
       "2010-06-03  0.059143 -0.015311  0.023603  0.009335  0.004963\n",
       "2010-06-04  0.021001  0.010373 -0.092373 -0.044733 -0.027605\n",
       "2010-06-07  0.026539  0.019113 -0.006696  0.003839 -0.010230\n",
       "2010-06-08 -0.026539 -0.004041  0.031959 -0.004244  0.007682\n",
       "2010-06-09 -0.024754 -0.003643  0.045583  0.025591  0.007624\n",
       "...              ...       ...       ...       ...       ...\n",
       "2024-01-12  0.080898  0.009746  0.012729  0.007194  0.016720\n",
       "2024-01-16 -0.165456 -0.009533 -0.025623 -0.007194  0.014260\n",
       "2024-01-17  0.006897 -0.011077  0.013647  0.003604  0.005281\n",
       "2024-01-18 -0.045702  0.008199  0.023075  0.011801  0.008324\n",
       "2024-01-19 -0.046948  0.001067  0.005869  0.005672  0.029098\n",
       "\n",
       "[3307 rows x 5 columns]"
      ]
     },
     "execution_count": 246,
     "metadata": {},
     "output_type": "execute_result"
    }
   ],
   "source": [
    "log_returns = np.log(adj_closed_df / adj_closed_df.shift(1))\n",
    "log_returns = log_returns.dropna()\n",
    "log_returns"
   ]
  },
  {
   "cell_type": "markdown",
   "metadata": {},
   "source": [
    "### Create Equally Weighted Portfolio and finding Historical Portfolio Returns"
   ]
  },
  {
   "cell_type": "code",
   "execution_count": 247,
   "metadata": {},
   "outputs": [
    {
     "data": {
      "text/plain": [
       "array([0.2, 0.2, 0.2, 0.2, 0.2])"
      ]
     },
     "execution_count": 247,
     "metadata": {},
     "output_type": "execute_result"
    }
   ],
   "source": [
    "portfolio_value = 1000000  # 1 million USD\n",
    "weighting = np.array([1 / len(tickers)] * len(tickers))\n",
    "weighting"
   ]
  },
  {
   "cell_type": "code",
   "execution_count": 248,
   "metadata": {},
   "outputs": [
    {
     "data": {
      "text/plain": [
       "Date\n",
       "2010-06-03    0.016347\n",
       "2010-06-04   -0.026667\n",
       "2010-06-07    0.006513\n",
       "2010-06-08    0.000963\n",
       "2010-06-09    0.010080\n",
       "                ...   \n",
       "2024-01-12    0.025458\n",
       "2024-01-16   -0.038709\n",
       "2024-01-17    0.003670\n",
       "2024-01-18    0.001139\n",
       "2024-01-19   -0.001048\n",
       "Length: 3307, dtype: float64"
      ]
     },
     "execution_count": 248,
     "metadata": {},
     "output_type": "execute_result"
    }
   ],
   "source": [
    "historical_returns = (log_returns * weighting).sum(axis=1)\n",
    "historical_returns"
   ]
  },
  {
   "cell_type": "code",
   "execution_count": 249,
   "metadata": {},
   "outputs": [
    {
     "data": {
      "text/plain": [
       "Date\n",
       "2010-06-09    0.007236\n",
       "2010-06-10   -0.001323\n",
       "2010-06-11    0.024493\n",
       "2010-06-14    0.028051\n",
       "2010-06-15    0.048749\n",
       "                ...   \n",
       "2024-01-12    0.032350\n",
       "2024-01-16    0.015320\n",
       "2024-01-17   -0.007919\n",
       "2024-01-18    0.008551\n",
       "2024-01-19   -0.009490\n",
       "Length: 3303, dtype: float64"
      ]
     },
     "execution_count": 249,
     "metadata": {},
     "output_type": "execute_result"
    }
   ],
   "source": [
    "# Find X-day historical returns\n",
    "\n",
    "days = 5\n",
    "\n",
    "historical_returns_x_days = historical_returns.rolling(window=days).sum()\n",
    "historical_returns_x_days.dropna()"
   ]
  },
  {
   "cell_type": "markdown",
   "metadata": {},
   "source": [
    "# Parametric"
   ]
  },
  {
   "cell_type": "markdown",
   "metadata": {},
   "source": [
    "### Create covariance matrix"
   ]
  },
  {
   "cell_type": "code",
   "execution_count": 250,
   "metadata": {},
   "outputs": [],
   "source": [
    "covariance = log_returns.cov() * 252  # stock market open for 252 days of the year"
   ]
  },
  {
   "cell_type": "markdown",
   "metadata": {},
   "source": [
    "### Calculate portfolio standard deviation"
   ]
  },
  {
   "cell_type": "code",
   "execution_count": 251,
   "metadata": {},
   "outputs": [],
   "source": [
    "portfolio_std_dev = np.sqrt(weighting.T @ covariance @ weighting)"
   ]
  },
  {
   "cell_type": "markdown",
   "metadata": {},
   "source": [
    "### Calculating VaR at different confidence levels and seeing the effect on VaR"
   ]
  },
  {
   "cell_type": "code",
   "execution_count": 252,
   "metadata": {},
   "outputs": [],
   "source": [
    "from scipy.stats import norm\n",
    "\n",
    "confidence_levels = [0.90, 0.95, 0.99]\n",
    "\n",
    "VaRs = []\n",
    "for cl in confidence_levels:\n",
    "    VaR = portfolio_value * (\n",
    "        norm.ppf(1 - cl) * portfolio_std_dev * np.sqrt(days / 252)\n",
    "        - historical_returns.mean() * days\n",
    "    )\n",
    "    VaRs.append(VaR)"
   ]
  },
  {
   "cell_type": "code",
   "execution_count": 253,
   "metadata": {},
   "outputs": [
    {
     "name": "stdout",
     "output_type": "stream",
     "text": [
      "Confidence Level     Value at Risk       \n",
      "----------------------------------------\n",
      "    90%:          $-44,862.16\n",
      "    95%:          $-58,238.71\n",
      "    99%:          $-83,330.91\n"
     ]
    }
   ],
   "source": [
    "print(f'{\"Confidence Level\":<20} {\"Value at Risk\":<20}')\n",
    "print(\"-\" * 40)\n",
    "\n",
    "for cl, VaR in zip(confidence_levels, VaRs):\n",
    "    print(f'{cl * 100:>6.0f}%: {\"\":<8} ${VaR:>10,.2f}')"
   ]
  },
  {
   "cell_type": "markdown",
   "metadata": {},
   "source": [
    "### Plotting"
   ]
  },
  {
   "cell_type": "code",
   "execution_count": 254,
   "metadata": {},
   "outputs": [
    {
     "data": {
      "image/png": "[encoded data removed]",
      "text/plain": [
       "<Figure size 640x480 with 1 Axes>"
      ]
     },
     "metadata": {},
     "output_type": "display_data"
    }
   ],
   "source": [
    "historical_x_day = historical_returns_x_days * portfolio_value\n",
    "\n",
    "plt.hist(\n",
    "    historical_x_day, bins=200, density=True, alpha=0.5, label=f\"{days}-Daily Returns\"\n",
    ")\n",
    "\n",
    "for j, VaR in zip(confidence_levels, VaRs):\n",
    "    plt.axvline(\n",
    "        x=-VaR, linestyle=\"--\", color=\"r\", label=\"VaR at {}% CL\".format(int(j * 100))\n",
    "    )\n",
    "\n",
    "plt.xlabel(f\"{days}- Day Portfolio Returns in USD\")\n",
    "plt.ylabel(\"Freq\")\n",
    "plt.title(\n",
    "    f\"Distribution of Portfolio {days}-Day Daily Returns and Parametric VaR Estimates\"\n",
    ")\n",
    "plt.legend()\n",
    "plt.show()"
   ]
  },
  {
   "cell_type": "markdown",
   "metadata": {},
   "source": [
    "# Historical"
   ]
  },
  {
   "cell_type": "markdown",
   "metadata": {},
   "source": [
    "### Calculating VaR at 95% level of confidence"
   ]
  },
  {
   "cell_type": "code",
   "execution_count": 255,
   "metadata": {},
   "outputs": [
    {
     "name": "stdout",
     "output_type": "stream",
     "text": [
      "Date\n",
      "2010-06-09    0.007236\n",
      "2010-06-10   -0.001323\n",
      "2010-06-11    0.024493\n",
      "2010-06-14    0.028051\n",
      "2010-06-15    0.048749\n",
      "                ...   \n",
      "2024-01-12    0.032350\n",
      "2024-01-16    0.015320\n",
      "2024-01-17   -0.007919\n",
      "2024-01-18    0.008551\n",
      "2024-01-19   -0.009490\n",
      "Length: 3303, dtype: float64\n"
     ]
    }
   ],
   "source": [
    "days = 5\n",
    "\n",
    "historical_returns_x_days = historical_returns.rolling(window=days).sum()\n",
    "historical_returns_x_days = historical_returns_x_days.dropna()\n",
    "print(historical_returns_x_days)"
   ]
  },
  {
   "cell_type": "code",
   "execution_count": 256,
   "metadata": {},
   "outputs": [
    {
     "data": {
      "text/plain": [
       "62359.261390165106"
      ]
     },
     "execution_count": 256,
     "metadata": {},
     "output_type": "execute_result"
    }
   ],
   "source": [
    "confidence = 0.95\n",
    "\n",
    "VaR = (\n",
    "    -np.percentile(historical_returns_x_days, 100 - (confidence * 100))\n",
    "    * portfolio_value\n",
    ")\n",
    "VaR"
   ]
  },
  {
   "cell_type": "code",
   "execution_count": 257,
   "metadata": {},
   "outputs": [
    {
     "data": {
      "image/png": "[encoded data removed]",
      "text/plain": [
       "<Figure size 640x480 with 1 Axes>"
      ]
     },
     "metadata": {},
     "output_type": "display_data"
    }
   ],
   "source": [
    "historical_returns_x_ = historical_returns_x_days * portfolio_value\n",
    "\n",
    "plt.hist(historical_returns_x_.dropna(), bins=200, density=True)\n",
    "plt.xlabel(f\"{days}-Day Portfolio Return and VaR Estimates in USD\")\n",
    "plt.ylabel(\"Freq\")\n",
    "plt.title(f\"Distribution of Portfolio {days}- Day Daily Returns in USD\")\n",
    "plt.axvline(\n",
    "    -VaR,\n",
    "    color=\"r\",\n",
    "    linestyle=\"dashed\",\n",
    "    linewidth=2,\n",
    "    label=f\"VaR at {confidence:.0%} CL\",\n",
    ")\n",
    "plt.legend()\n",
    "plt.show()"
   ]
  },
  {
   "cell_type": "markdown",
   "metadata": {},
   "source": [
    "# Monte Carlo Method"
   ]
  },
  {
   "cell_type": "markdown",
   "metadata": {},
   "source": [
    "### Calculate Expected Portfolio Return, Portfolio Standard Deviation and random z-scores"
   ]
  },
  {
   "cell_type": "code",
   "execution_count": 258,
   "metadata": {},
   "outputs": [],
   "source": [
    "def expectation(weights, log_returns):\n",
    "    return np.sum(log_returns.mean() * weights)\n",
    "\n",
    "\n",
    "def sigma(weights, cov_matrix):\n",
    "    sigma_squared = weights.T @ cov_matrix @ weights\n",
    "    return np.sqrt(sigma_squared)\n",
    "\n",
    "\n",
    "def random_z_score():\n",
    "    return np.random.normal(0, 1)"
   ]
  },
  {
   "cell_type": "code",
   "execution_count": 259,
   "metadata": {},
   "outputs": [],
   "source": [
    "portfolio_expecation = expectation(weighting, log_returns)"
   ]
  },
  {
   "cell_type": "markdown",
   "metadata": {},
   "source": [
    "### Calculate scenarioPnL"
   ]
  },
  {
   "cell_type": "code",
   "execution_count": 260,
   "metadata": {},
   "outputs": [],
   "source": [
    "def scenarioPnL(portfolio_value, portfolio_std_dev, z_score, days):\n",
    "    return (\n",
    "        portfolio_value * portfolio_expecation * days\n",
    "        + portfolio_value * portfolio_std_dev * z_score * np.sqrt(days / 252)\n",
    "    )  # first part finds the expected returns per day in USD, 2nd part accounts for volatility and is annualised (can be negative depending on Z-Score)"
   ]
  },
  {
   "cell_type": "markdown",
   "metadata": {},
   "source": [
    "### Monte Carlo Method"
   ]
  },
  {
   "cell_type": "code",
   "execution_count": 261,
   "metadata": {},
   "outputs": [],
   "source": [
    "simulations = 10000\n",
    "\n",
    "returns = []\n",
    "\n",
    "for i in range(simulations):\n",
    "    z_score = random_z_score()\n",
    "    returns.append(scenarioPnL(portfolio_value, portfolio_std_dev, z_score, days))"
   ]
  },
  {
   "cell_type": "code",
   "execution_count": 262,
   "metadata": {},
   "outputs": [
    {
     "data": {
      "text/plain": [
       "63649.40983593518"
      ]
     },
     "execution_count": 262,
     "metadata": {},
     "output_type": "execute_result"
    }
   ],
   "source": [
    "confidence = 0.95\n",
    "\n",
    "VaR = -np.percentile(returns, 100 - (confidence * 100))\n",
    "VaR"
   ]
  },
  {
   "cell_type": "markdown",
   "metadata": {},
   "source": [
    "### Plot all 10000 simulations"
   ]
  },
  {
   "cell_type": "code",
   "execution_count": 263,
   "metadata": {},
   "outputs": [
    {
     "data": {
      "image/png": "[encoded data removed]",
      "text/plain": [
       "<Figure size 640x480 with 1 Axes>"
      ]
     },
     "metadata": {},
     "output_type": "display_data"
    }
   ],
   "source": [
    "plt.hist(returns, bins=200, density=True)\n",
    "plt.xlabel(\"Scenario PnL in USD\")\n",
    "plt.ylabel(\"Freq\")\n",
    "plt.title(f\"Distribution of Portfolio PnL Over {days} Days\")\n",
    "plt.axvline(\n",
    "    -VaR,\n",
    "    color=\"r\",\n",
    "    linestyle=\"dashed\",\n",
    "    linewidth=2,\n",
    "    label=f\"VaR at {confidence:.0%} CL\",\n",
    ")\n",
    "plt.legend()\n",
    "plt.show()"
   ]
  }
 ],
 "metadata": {
  "kernelspec": {
   "display_name": "Python 3",
   "language": "python",
   "name": "python3"
  },
  "language_info": {
   "codemirror_mode": {
    "name": "ipython",
    "version": 3
   },
   "file_extension": ".py",
   "mimetype": "text/x-python",
   "name": "python",
   "nbconvert_exporter": "python",
   "pygments_lexer": "ipython3",
   "version": "3.12.0"
  }
 },
 "nbformat": 4,
 "nbformat_minor": 2
}
